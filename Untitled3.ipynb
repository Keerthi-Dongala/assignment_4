{
 "cells": [
  {
   "cell_type": "code",
   "execution_count": 25,
   "id": "adae25f6",
   "metadata": {},
   "outputs": [
    {
     "name": "stdout",
     "output_type": "stream",
     "text": [
      "string: \n",
      " a1bcAB*&+cz682JD#file creation$\n",
      "size of the string:  31\n"
     ]
    }
   ],
   "source": [
    "import re\n",
    "s=\"\"\n",
    "k=\"\"\n",
    "l=\"\"\n",
    "m=\"\"\n",
    "File=open(\"f1.txt\",\"w\")\n",
    "File.write(\"a1bcAB*&+cz682JD#\")\n",
    "File.write(\"file creation$\")\n",
    "File.close()\n",
    "File=open(\"f1.txt\",\"r\")\n",
    "a=File.read()\n",
    "print(\"string: \\n\",a)\n",
    "File.close()\n",
    "x=len(a)\n",
    "print(\"size of the string: \",x)\n",
    "for i in a:\n",
    "    if i.isupper():\n",
    "        s=s+i\n",
    "        File=open(\"upper.txt\",\"w\")\n",
    "        File.write(s)\n",
    "        File.close()\n",
    "    elif i.islower():\n",
    "        k=k+i\n",
    "        File=open(\"lower.txt\",\"w\")\n",
    "        File.write(k)\n",
    "        File.close()\n",
    "    elif i.isalnum():\n",
    "        l=l+i\n",
    "        File=open(\"num.txt\",\"w\")\n",
    "        File.write(l)\n",
    "        File.close()\n",
    "    else:\n",
    "        m=m+i\n",
    "        File=open(\"splchar.txt\",\"w\")\n",
    "        File.write(m)\n",
    "        File.close()\n",
    "        "
   ]
  },
  {
   "cell_type": "code",
   "execution_count": null,
   "id": "8d58cdca",
   "metadata": {},
   "outputs": [],
   "source": []
  },
  {
   "cell_type": "code",
   "execution_count": null,
   "id": "5a60ab08",
   "metadata": {},
   "outputs": [],
   "source": []
  }
 ],
 "metadata": {
  "kernelspec": {
   "display_name": "Python 3 (ipykernel)",
   "language": "python",
   "name": "python3"
  },
  "language_info": {
   "codemirror_mode": {
    "name": "ipython",
    "version": 3
   },
   "file_extension": ".py",
   "mimetype": "text/x-python",
   "name": "python",
   "nbconvert_exporter": "python",
   "pygments_lexer": "ipython3",
   "version": "3.9.12"
  }
 },
 "nbformat": 4,
 "nbformat_minor": 5
}
