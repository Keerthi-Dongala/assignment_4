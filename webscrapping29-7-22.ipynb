{
 "cells": [
  {
   "cell_type": "code",
   "execution_count": 4,
   "id": "97324bde",
   "metadata": {},
   "outputs": [
    {
     "name": "stdout",
     "output_type": "stream",
     "text": [
      "welcome<a href=\"https://www.yahoo.com\">hello how are you\n",
      "******************link***********************\n",
      "https://www.yahoo.com\n"
     ]
    }
   ],
   "source": [
    "page='welcome<a href=\"https://www.yahoo.com\">hello how are you'\n",
    "print(page)\n",
    "def getURL(page):\n",
    "    start_link=page.find(\"<a href\")\n",
    "    start_quote=page.find('\"',start_link)\n",
    "    end_quote=page.find('\"',start_quote+1)\n",
    "    url=page[start_quote+1:end_quote]\n",
    "    return url\n",
    "url=getURL(page)\n",
    "print(\"******************link***********************\")\n",
    "print(url)"
   ]
  },
  {
   "cell_type": "code",
   "execution_count": 10,
   "id": "0f4e86f9",
   "metadata": {},
   "outputs": [
    {
     "ename": "SyntaxError",
     "evalue": "invalid syntax (3051824443.py, line 15)",
     "output_type": "error",
     "traceback": [
      "\u001b[1;36m  Input \u001b[1;32mIn [10]\u001b[1;36m\u001b[0m\n\u001b[1;33m    else:\u001b[0m\n\u001b[1;37m    ^\u001b[0m\n\u001b[1;31mSyntaxError\u001b[0m\u001b[1;31m:\u001b[0m invalid syntax\n"
     ]
    }
   ],
   "source": [
    "import urllib.request\n",
    "url='https://www.rguktsklm.ac.in'\n",
    "resp=urllib.request.urlopen(url)\n",
    "page1=resp.read()\n",
    "page=str(page)\n",
    "def getURL(page1):\n",
    "    start_link=page.find(\"<a href\")\n",
    "    start_quote=page.find('\"',start_link)\n",
    "    end_quote=page.find('\"',start_quote+1)\n",
    "    url=page[start_quote+1:end_quote]\n",
    "    return url,end_quote\n",
    "while True:\n",
    "    url,n=getURL(page)\n",
    "    page=page[n:]\n",
    "    else:\n",
    "        break"
   ]
  },
  {
   "cell_type": "code",
   "execution_count": null,
   "id": "189987df",
   "metadata": {},
   "outputs": [],
   "source": []
  }
 ],
 "metadata": {
  "kernelspec": {
   "display_name": "Python 3 (ipykernel)",
   "language": "python",
   "name": "python3"
  },
  "language_info": {
   "codemirror_mode": {
    "name": "ipython",
    "version": 3
   },
   "file_extension": ".py",
   "mimetype": "text/x-python",
   "name": "python",
   "nbconvert_exporter": "python",
   "pygments_lexer": "ipython3",
   "version": "3.9.12"
  }
 },
 "nbformat": 4,
 "nbformat_minor": 5
}
