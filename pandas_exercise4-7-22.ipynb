{
 "cells": [
  {
   "cell_type": "code",
   "execution_count": 3,
   "id": "e5134739",
   "metadata": {},
   "outputs": [
    {
     "name": "stdout",
     "output_type": "stream",
     "text": [
      "0    2\n",
      "1    3\n",
      "2    4\n",
      "3    5\n",
      "4    8\n",
      "dtype: int64\n"
     ]
    }
   ],
   "source": [
    "#1\n",
    "import pandas as pd\n",
    "x=pd.Series([2,3,4,5,8])\n",
    "print(x)"
   ]
  },
  {
   "cell_type": "code",
   "execution_count": 4,
   "id": "bef64663",
   "metadata": {},
   "outputs": [
    {
     "name": "stdout",
     "output_type": "stream",
     "text": [
      "0    2\n",
      "1    4\n",
      "2    5\n",
      "3    6\n",
      "4    8\n",
      "dtype: int64\n",
      "<class 'pandas.core.series.Series'>\n",
      "convert to list\n",
      "[2, 4, 5, 6, 8]\n",
      "<class 'list'>\n"
     ]
    }
   ],
   "source": [
    "#2\n",
    "x=pd.Series([2,4,5,6,8])\n",
    "print(x)\n",
    "print(type(x))\n",
    "print(\"convert to list\")\n",
    "print(x.tolist())\n",
    "print(type(x.tolist()))"
   ]
  },
  {
   "cell_type": "code",
   "execution_count": 5,
   "id": "0a5d119a",
   "metadata": {},
   "outputs": [
    {
     "name": "stdout",
     "output_type": "stream",
     "text": [
      "addition:\n",
      "0     5\n",
      "1     9\n",
      "2    13\n",
      "3    17\n",
      "4    41\n",
      "dtype: int64\n",
      "subtraction:\n",
      "0   -1\n",
      "1   -1\n",
      "2   -1\n",
      "3   -1\n",
      "4   -1\n",
      "dtype: int64\n",
      "multiplication:\n",
      "0      6\n",
      "1     20\n",
      "2     42\n",
      "3     72\n",
      "4    420\n",
      "dtype: int64\n",
      "division:\n",
      "0    0.666667\n",
      "1    0.800000\n",
      "2    0.857143\n",
      "3    0.888889\n",
      "4    0.952381\n",
      "dtype: float64\n"
     ]
    }
   ],
   "source": [
    "#3\n",
    "x1=pd.Series([2,4,6,8,20])\n",
    "x2=pd.Series([3,5,7,9,21])\n",
    "print(\"addition:\")\n",
    "print(x1+x2)\n",
    "print(\"subtraction:\")\n",
    "print(x1-x2)\n",
    "print(\"multiplication:\")\n",
    "print(x1*x2)\n",
    "print(\"division:\")\n",
    "print(x1/x2)"
   ]
  },
  {
   "cell_type": "code",
   "execution_count": 7,
   "id": "05aedd71",
   "metadata": {},
   "outputs": [
    {
     "name": "stdout",
     "output_type": "stream",
     "text": [
      "0     2\n",
      "1     4\n",
      "2     6\n",
      "3     8\n",
      "4    20\n",
      "dtype: int64\n",
      "0     3\n",
      "1     5\n",
      "2     7\n",
      "3     9\n",
      "4    21\n",
      "dtype: int64\n",
      "equals:\n",
      "0    False\n",
      "1    False\n",
      "2    False\n",
      "3    False\n",
      "4    False\n",
      "dtype: bool\n",
      "greater than\n",
      "0    False\n",
      "1    False\n",
      "2    False\n",
      "3    False\n",
      "4    False\n",
      "dtype: bool\n",
      "less than\n",
      "0    True\n",
      "1    True\n",
      "2    True\n",
      "3    True\n",
      "4    True\n",
      "dtype: bool\n"
     ]
    }
   ],
   "source": [
    "#4 relational operators\n",
    "print(x1)\n",
    "print(x2)\n",
    "print(\"equals:\")\n",
    "print(x1==x2)\n",
    "print(\"greater than\")\n",
    "print(x1>x2)\n",
    "print(\"less than\")\n",
    "print(x1<x2)"
   ]
  },
  {
   "cell_type": "code",
   "execution_count": 8,
   "id": "7e002ab3",
   "metadata": {},
   "outputs": [
    {
     "name": "stdout",
     "output_type": "stream",
     "text": [
      "a    100\n",
      "b    200\n",
      "c    300\n",
      "dtype: int64\n"
     ]
    }
   ],
   "source": [
    "#5\n",
    "x3={'a':100,'b':200,'c':300}\n",
    "new=pd.Series(x3)\n",
    "print(new)"
   ]
  },
  {
   "cell_type": "code",
   "execution_count": 9,
   "id": "07698087",
   "metadata": {},
   "outputs": [
    {
     "name": "stdout",
     "output_type": "stream",
     "text": [
      "[10 20 30 40]\n",
      "0    10\n",
      "1    20\n",
      "2    30\n",
      "3    40\n",
      "dtype: int32\n"
     ]
    }
   ],
   "source": [
    "#6\n",
    "import numpy as np\n",
    "array=np.array([10,20,30,40])\n",
    "print(array)\n",
    "new=pd.Series(array)\n",
    "print(new)"
   ]
  },
  {
   "cell_type": "code",
   "execution_count": null,
   "id": "e5d7f8e0",
   "metadata": {},
   "outputs": [],
   "source": [
    "#7\n"
   ]
  }
 ],
 "metadata": {
  "kernelspec": {
   "display_name": "Python 3 (ipykernel)",
   "language": "python",
   "name": "python3"
  },
  "language_info": {
   "codemirror_mode": {
    "name": "ipython",
    "version": 3
   },
   "file_extension": ".py",
   "mimetype": "text/x-python",
   "name": "python",
   "nbconvert_exporter": "python",
   "pygments_lexer": "ipython3",
   "version": "3.9.12"
  }
 },
 "nbformat": 4,
 "nbformat_minor": 5
}
